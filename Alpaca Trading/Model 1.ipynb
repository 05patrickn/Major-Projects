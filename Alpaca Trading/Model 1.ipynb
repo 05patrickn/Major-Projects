{
 "cells": [
  {
   "cell_type": "markdown",
   "id": "3d75d6cf",
   "metadata": {},
   "source": [
    "### 1. Mean Regression Strategy:\n",
    "Mean regression, also known as mean reversion, is a fundamental principle in finance that suggests asset prices tend to revert to their historical averages over time. In this portfolio, mean regression is employed to identify assets that have deviated significantly from their historical averages. When an asset's price deviates too far from its historical mean, the strategy initiates trades in the opposite direction, anticipating a return to the mean.\n",
    "\n",
    "### 2. Trend Following Strategy:\n",
    "Trend following is another core principle that assumes asset prices exhibit trends and momentum. This strategy aims to identify and participate in trends by buying assets whose prices are rising and selling those whose prices are falling. The goal is to capture profits by riding the momentum of these trends.\n",
    "\n",
    "### Portfolio Construction:\n",
    "The portfolio is constructed by allocating capital across a diversified set of assets in the S&P market and cryptocurrencies as allowed by Alpaca trading.\n",
    "\n",
    "\n",
    "### PNL\n",
    "2.71% in 9 days.\n"
   ]
  }
 ],
 "metadata": {
  "kernelspec": {
   "display_name": "Python 3 (ipykernel)",
   "language": "python",
   "name": "python3"
  },
  "language_info": {
   "codemirror_mode": {
    "name": "ipython",
    "version": 3
   },
   "file_extension": ".py",
   "mimetype": "text/x-python",
   "name": "python",
   "nbconvert_exporter": "python",
   "pygments_lexer": "ipython3",
   "version": "3.8.8"
  }
 },
 "nbformat": 4,
 "nbformat_minor": 5
}

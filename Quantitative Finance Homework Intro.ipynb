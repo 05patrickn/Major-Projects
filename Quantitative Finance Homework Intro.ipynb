{
 "cells": [
  {
   "cell_type": "markdown",
   "id": "bab06932",
   "metadata": {},
   "source": [
    "# Stat 198: Introduction to Quantitative Finance DeCal\n",
    "\n",
    "Stat 198 is hosted by [Traders at Berkeley](https://traders.berkeley.edu/). \n",
    "\n",
    "Course Website: [https://traders.berkeley.edu/education](https://traders.berkeley.edu/education.html)"
   ]
  },
  {
   "cell_type": "markdown",
   "id": "edb76468",
   "metadata": {},
   "source": [
    "# Homework #0"
   ]
  },
  {
   "cell_type": "markdown",
   "id": "33465889",
   "metadata": {},
   "source": [
    "The first homework is to make sure you are up to speed with the tools necessary to complete future homeworks/project.\n",
    "\n",
    "More information on the necessary tools is available [here](https://docs.google.com/document/d/15RrRBhsXgoGdq_egw0w1DwQrXmHMmzAFdPSdA4bBuj0/edit).\n",
    "\n",
    "You are free to use any IDE of your choice, but our homework will primarily be in a Jupyter Notebook format.\n",
    "\n",
    "**Learning Objectives:**\n",
    "\n",
    "- Package Downloads\n",
    "- Pandas and NumPy Review\n",
    "- Data Visualization Review\n",
    "\n",
    "**Helpful References**\n",
    "- The Data 100 reference sheet (mainly first page): https://ds100.org/su22/resources/assets/exams/su22/su22_final_reference_sheet.pdf\n",
    "- Pandas documentation: https://pandas.pydata.org/docs/\n",
    "- NumPy documentation: https://numpy.org/doc/\n",
    "- Matplotlib documentation: https://matplotlib.org/stable/index.html"
   ]
  },
  {
   "cell_type": "markdown",
   "id": "26c2f2c0",
   "metadata": {},
   "source": [
    "##  Package Downloads\n",
    "This is to check if you have all the necessary packages installed. Please install numpy, pandas, scikit-learn, statsmodels, and matplotlib. Run all of the commands below to make sure your packages are installed."
   ]
  },
  {
   "cell_type": "code",
   "execution_count": 1,
   "id": "2f55a3d1",
   "metadata": {},
   "outputs": [
    {
     "name": "stdout",
     "output_type": "stream",
     "text": [
      "Name: numpy\n",
      "Version: 1.23.5\n",
      "Summary: NumPy is the fundamental package for array computing with Python.\n",
      "Home-page: https://www.numpy.org\n",
      "Author: Travis E. Oliphant et al.\n",
      "Author-email: \n",
      "License: BSD\n",
      "Location: c:\\users\\05pat\\anaconda3\\envs\\escritorio\\lib\\site-packages\n",
      "Requires: \n",
      "Required-by: Bottleneck, contourpy, matplotlib, mkl-fft, mkl-random, numexpr, pandas, patsy, scikit-learn, scipy, statsmodels, yfinance\n"
     ]
    }
   ],
   "source": [
    "!pip show numpy"
   ]
  },
  {
   "cell_type": "code",
   "execution_count": null,
   "id": "c5d3c108",
   "metadata": {},
   "outputs": [],
   "source": [
    "!pip show pandas"
   ]
  },
  {
   "cell_type": "code",
   "execution_count": null,
   "id": "8f2928ea",
   "metadata": {},
   "outputs": [],
   "source": [
    "!pip show scikit-learn"
   ]
  },
  {
   "cell_type": "code",
   "execution_count": null,
   "id": "ea34dccd",
   "metadata": {},
   "outputs": [],
   "source": [
    "!pip show statsmodels"
   ]
  },
  {
   "cell_type": "code",
   "execution_count": null,
   "id": "2b7a8c72",
   "metadata": {},
   "outputs": [],
   "source": [
    "!pip show matplotlib"
   ]
  },
  {
   "cell_type": "markdown",
   "id": "f79bb344",
   "metadata": {},
   "source": [
    "### Questions\n",
    "These questions are for you to learn about some basics of the above packages. If you aren't familiar with them, search them up!\n",
    "\n",
    "#### 1.1 What is numpy used for?\n",
    "It is used to manage, analyse and work efficiently with large arrays of data.\n",
    "\n",
    "#### 1.2 What is pandas used for?\n",
    "Pandas is used to open, analyse and handle large data sets.\n",
    "\n",
    "#### 1.3 What is scikit-learn used for?\n",
    "This library is used for machine learning and statistical modelling of data.\n",
    "\n",
    "#### 1.4 What is statsmodels used for?\n",
    "Statmodels is used for statistical modelling and analysis. (linear regressions, hypothesis testing...)\n",
    "\n",
    "#### 1.5 What is matplotlib used for?\n",
    "Plotting data."
   ]
  },
  {
   "cell_type": "markdown",
   "id": "cbc0f57f",
   "metadata": {},
   "source": [
    "## NumPy Review\n",
    "Numpy is used for large, multi-dimensional arrays and matrices. They also support a large collection of high-level mathematical functions that can be used on these (including Fourier transforms, if you learned about it in CS170!).\n",
    "\n",
    "**First, import the package.**"
   ]
  },
  {
   "cell_type": "code",
   "execution_count": null,
   "id": "bf042d7f",
   "metadata": {},
   "outputs": [],
   "source": [
    "import numpy as np"
   ]
  },
  {
   "cell_type": "markdown",
   "id": "41ceac61",
   "metadata": {},
   "source": [
    "There are a lot of useful functions and ways to use NumPy but we'll only be covering the very basic few. You can explore more [here](https://numpy.org/doc/stable/user/absolute_beginners.html)!\n",
    "\n",
    "First, we will just cover the basics of NumPy."
   ]
  },
  {
   "cell_type": "code",
   "execution_count": null,
   "id": "30e1e8e3",
   "metadata": {},
   "outputs": [],
   "source": [
    "# Create an array with a range where the parameters are first number, last number, and step size.\n",
    "np.arange(2, 20, 3)"
   ]
  },
  {
   "cell_type": "code",
   "execution_count": null,
   "id": "c727ca8c",
   "metadata": {},
   "outputs": [],
   "source": [
    "# Create an array of length 5 filled with 0s\n",
    "np.zeros(5)"
   ]
  },
  {
   "cell_type": "code",
   "execution_count": null,
   "id": "44b7f1ec",
   "metadata": {},
   "outputs": [],
   "source": [
    "# Create a numpy array\n",
    "np.array([1, 2, 3, 4])"
   ]
  },
  {
   "cell_type": "code",
   "execution_count": null,
   "id": "fd9a1581",
   "metadata": {},
   "outputs": [],
   "source": [
    "# Sort number arrays in ascending order\n",
    "np.sort([4, 3, 1, 2, 5, 6, 7])"
   ]
  },
  {
   "cell_type": "code",
   "execution_count": null,
   "id": "08b28e61",
   "metadata": {},
   "outputs": [],
   "source": [
    "# Concatenate two arrays\n",
    "np.concatenate(([1, 2, 3, 4], [5, 6, 7, 8]))\n",
    "np.concatenate(([[1, 2], [3, 4]], [[5, 6]]), axis = 0)"
   ]
  },
  {
   "cell_type": "code",
   "execution_count": null,
   "id": "5f1591e5",
   "metadata": {},
   "outputs": [],
   "source": [
    "# Finding dimensions of the array\n",
    "array = np.concatenate(([[1, 2], [3, 4]], [[5, 6]]), axis = 0)\n",
    "print(f\"Dimension of the array: {array.ndim}\")\n",
    "print(f\"Total number of elements in the array: {array.size}\")\n",
    "print(f\"Shape of the array: {array.shape}\")"
   ]
  },
  {
   "cell_type": "code",
   "execution_count": null,
   "id": "6ba8cd70",
   "metadata": {},
   "outputs": [],
   "source": [
    "# Re-shaping Array\n",
    "a = np.arange(10)\n",
    "b = a.reshape(5, 2)\n",
    "b"
   ]
  },
  {
   "cell_type": "code",
   "execution_count": null,
   "id": "b3072296",
   "metadata": {},
   "outputs": [],
   "source": [
    "# Indexing works same as a regular array\n",
    "a = np.array([1, 2, 3, 4])\n",
    "print(f\"Should print 2: {a[1]}\")\n",
    "print(f\"Should print array([2, 3, 4]): {a[1:]}\")"
   ]
  },
  {
   "cell_type": "markdown",
   "id": "a72db569",
   "metadata": {},
   "source": [
    "**Q1. Use a NumPy function other than `np.array` to create an array of length 7 filled with 1s.**"
   ]
  },
  {
   "cell_type": "code",
   "execution_count": null,
   "id": "8f37c50d",
   "metadata": {},
   "outputs": [],
   "source": [
    "np.ones(7)"
   ]
  },
  {
   "cell_type": "markdown",
   "id": "1a74befa",
   "metadata": {},
   "source": [
    "**Q2. Use a NumPy function other than `np.arange` to create an array of length 10 with values that are spaced linearly from 12 to 202.**"
   ]
  },
  {
   "cell_type": "code",
   "execution_count": null,
   "id": "becb3c76",
   "metadata": {},
   "outputs": [],
   "source": [
    "np.linspace(12, 202, 10)"
   ]
  },
  {
   "cell_type": "markdown",
   "id": "849d9631",
   "metadata": {},
   "source": [
    "**Q3. Use `np.sort` to sort the number array below in descending order**"
   ]
  },
  {
   "cell_type": "code",
   "execution_count": null,
   "id": "657ea13a",
   "metadata": {},
   "outputs": [],
   "source": [
    "array = [5, 4, 6, 2, 3, 8, 1, 7]\n",
    "np.sort(array)[::-1]"
   ]
  },
  {
   "cell_type": "markdown",
   "id": "69a86c7b",
   "metadata": {},
   "source": [
    "**Q4. Use boolean indexing to select numbers that are greater than 3 in the given array.**"
   ]
  },
  {
   "cell_type": "code",
   "execution_count": null,
   "id": "a97c1c9d",
   "metadata": {},
   "outputs": [],
   "source": [
    "array = np.array([[1, 2, 3, 4], [5, 6, 7, 8], [7, 8, 9, 10]], dtype=int)\n",
    "\n",
    "mask = array > 3\n",
    "ans = array[mask]\n",
    "print(ans)"
   ]
  },
  {
   "cell_type": "markdown",
   "id": "c2b7634e",
   "metadata": {},
   "source": [
    "**Q5. Use a NumPy function to create an array of length 5 with random numbers between 0 and 1.**"
   ]
  },
  {
   "cell_type": "code",
   "execution_count": null,
   "id": "e2177557",
   "metadata": {},
   "outputs": [],
   "source": [
    "np.random.rand(5)"
   ]
  },
  {
   "cell_type": "markdown",
   "id": "1392cae5",
   "metadata": {},
   "source": [
    "In the following section, we will take a look at NumPy operations."
   ]
  },
  {
   "cell_type": "code",
   "execution_count": null,
   "id": "4cd55b48",
   "metadata": {},
   "outputs": [],
   "source": [
    "# Add 2 equal size arrays\n",
    "a = np.array([1, 2, 3])\n",
    "b = np.ones(3)\n",
    "print(f\"Add arrays a and b: {a + b}\")\n",
    "print(f\"Multiply arrays a and a: {a * a}\")"
   ]
  },
  {
   "cell_type": "code",
   "execution_count": null,
   "id": "b88541fb",
   "metadata": {},
   "outputs": [],
   "source": [
    "# Multiplying a constant to an array performs action on all the elements\n",
    "print(f\"Multiply 2 to array a: {2*a}\")"
   ]
  },
  {
   "cell_type": "code",
   "execution_count": null,
   "id": "1787b5b9",
   "metadata": {},
   "outputs": [],
   "source": [
    "# More array operations\n",
    "print(f\"Max of array a: {a.max()}\")\n",
    "print(f\"Min of array a: {a.min()}\")\n",
    "print(f\"Sum of array a: {a.sum()}\")"
   ]
  },
  {
   "cell_type": "code",
   "execution_count": null,
   "id": "e3320e72",
   "metadata": {},
   "outputs": [],
   "source": [
    "# Unique values in array\n",
    "c = np.array([1, 2, 1, 2, 4, 5, 3])\n",
    "print(f\"Unique values in array c: {np.unique(c)}\")"
   ]
  },
  {
   "cell_type": "markdown",
   "id": "5bb16fd1",
   "metadata": {},
   "source": [
    "**Q1. What is the resulting array of a - b?**"
   ]
  },
  {
   "cell_type": "code",
   "execution_count": null,
   "id": "6edaac10",
   "metadata": {},
   "outputs": [],
   "source": [
    "print(f\"Subtract arrays a and b: {a - b}\")"
   ]
  },
  {
   "cell_type": "markdown",
   "id": "3d94df62",
   "metadata": {},
   "source": [
    "**Q2. What is the value of the sum of the minimum elements of array a and b?**"
   ]
  },
  {
   "cell_type": "code",
   "execution_count": null,
   "id": "d2e2e8e5",
   "metadata": {},
   "outputs": [],
   "source": [
    "print(f\"Sum min array a and b: {np.min(a)+np.min(b)}\")"
   ]
  },
  {
   "cell_type": "markdown",
   "id": "def670ac",
   "metadata": {},
   "source": [
    "**Q3. What is the value of the maximum element of the array a + b?**"
   ]
  },
  {
   "cell_type": "code",
   "execution_count": null,
   "id": "e6795498",
   "metadata": {},
   "outputs": [],
   "source": [
    "print(f\"Sum max array a and b: {np.max(a)+np.max(b)}\")"
   ]
  },
  {
   "cell_type": "markdown",
   "id": "b5607e17",
   "metadata": {},
   "source": [
    "**Q4. How many unique values are in the array below?**"
   ]
  },
  {
   "cell_type": "code",
   "execution_count": null,
   "id": "c7c09240",
   "metadata": {},
   "outputs": [],
   "source": [
    "arr = np.round(np.random.random_sample(250), 2)\n",
    "\n",
    "print(f\"The number of unique values in the array are: {len(np.unique(arr))}\")"
   ]
  },
  {
   "cell_type": "markdown",
   "id": "3cefc2a2",
   "metadata": {},
   "source": [
    "## Pandas Review\n",
    "In this section, you will learn the basics of pandas and numpy. Hopefully you will have a good understanding of how to use these packages by the end!\n",
    "\n",
    "### DataFrames\n",
    "DataFrames are basically a table where each column has a specific data type and there's also an index over the columns and rows (multi-index is possible!).\n",
    "\n",
    "In the future, you will use `pd.read_csv` to read in data.\n",
    "\n",
    "Here, we will just learn how to create a basic DataFrame.\n",
    "\n",
    "#### First, let's import the necessary packages."
   ]
  },
  {
   "cell_type": "code",
   "execution_count": 63,
   "id": "2e86ce9d",
   "metadata": {},
   "outputs": [],
   "source": [
    "import pandas as pd"
   ]
  },
  {
   "cell_type": "markdown",
   "id": "547c49be",
   "metadata": {},
   "source": [
    "#### Creating DataFrame by Columns"
   ]
  },
  {
   "cell_type": "code",
   "execution_count": 64,
   "id": "96da6539",
   "metadata": {},
   "outputs": [
    {
     "data": {
      "text/plain": "         0  1      2\n0     Alex  1     CS\n1      Ben  1   Math\n2  Charlie  2     CS\n3    David  3  Stats",
      "text/html": "<div>\n<style scoped>\n    .dataframe tbody tr th:only-of-type {\n        vertical-align: middle;\n    }\n\n    .dataframe tbody tr th {\n        vertical-align: top;\n    }\n\n    .dataframe thead th {\n        text-align: right;\n    }\n</style>\n<table border=\"1\" class=\"dataframe\">\n  <thead>\n    <tr style=\"text-align: right;\">\n      <th></th>\n      <th>0</th>\n      <th>1</th>\n      <th>2</th>\n    </tr>\n  </thead>\n  <tbody>\n    <tr>\n      <th>0</th>\n      <td>Alex</td>\n      <td>1</td>\n      <td>CS</td>\n    </tr>\n    <tr>\n      <th>1</th>\n      <td>Ben</td>\n      <td>1</td>\n      <td>Math</td>\n    </tr>\n    <tr>\n      <th>2</th>\n      <td>Charlie</td>\n      <td>2</td>\n      <td>CS</td>\n    </tr>\n    <tr>\n      <th>3</th>\n      <td>David</td>\n      <td>3</td>\n      <td>Stats</td>\n    </tr>\n  </tbody>\n</table>\n</div>"
     },
     "execution_count": 64,
     "metadata": {},
     "output_type": "execute_result"
    }
   ],
   "source": [
    "example_df = pd.DataFrame(\n",
    "    [ (\"Alex\", 1, \"CS\"), (\"Ben\", 1, \"Math\"), (\"Charlie\", 2, \"CS\"), (\"David\", 3, \"Stats\"),\n",
    "    ]\n",
    ")\n",
    "example_df"
   ]
  },
  {
   "cell_type": "markdown",
   "id": "c2f9073b",
   "metadata": {},
   "source": [
    "#### Creating DataFrame by Rows"
   ]
  },
  {
   "cell_type": "code",
   "execution_count": null,
   "id": "06e298aa",
   "metadata": {},
   "outputs": [],
   "source": [
    "example_df = pd.DataFrame(\n",
    "    data = {\n",
    "        'Student': [\"Alex\", \"Ben\", \"Charlie\", \"David\"],\n",
    "        'Grade': [1, 1, 2, 3],\n",
    "        'Major': [\"CS\", \"Math\", \"CS\", \"Stats\"],\n",
    "    }\n",
    ")\n",
    "example_df"
   ]
  },
  {
   "cell_type": "markdown",
   "id": "d6f8f51e",
   "metadata": {},
   "source": [
    "There are useful tools such as `DataFrame.shape` which tells you the dimension of the DataFrame. More on these can be found [here](https://pandas.pydata.org/docs/reference/api/pandas.DataFrame.html)"
   ]
  },
  {
   "cell_type": "markdown",
   "id": "9afc4d47",
   "metadata": {},
   "source": [
    "#### Slicing\n",
    "There are 3 main ways to slice DataFrmaes: `loc`, `iloc`, and `[]`. `loc` takes in two arguments, row labels and column labels. `iloc` is similar to `loc` but it takes in row and column numbers instead of labels. `[]` is the more general operator.\n",
    "\n",
    "We will just see a brief example of how to use these 3."
   ]
  },
  {
   "cell_type": "code",
   "execution_count": null,
   "id": "77541da1",
   "metadata": {},
   "outputs": [],
   "source": [
    "# get rows 0 through 2 and columns Student and Major\n",
    "example_df.loc[0:2, ['Student', 'Major']]"
   ]
  },
  {
   "cell_type": "code",
   "execution_count": null,
   "id": "a73a651f",
   "metadata": {},
   "outputs": [],
   "source": [
    "# get rows 0 and 3 and columns 0 through 2 (exclusive)\n",
    "example_df.iloc[[0, 3], 0:2]"
   ]
  },
  {
   "cell_type": "code",
   "execution_count": null,
   "id": "9002bc44",
   "metadata": {},
   "outputs": [],
   "source": [
    "# get rows 0 through 3 (exclusive)\n",
    "example_df[0:3]"
   ]
  },
  {
   "cell_type": "markdown",
   "id": "6181670f",
   "metadata": {},
   "source": [
    "#### Q1. Create a sample DataFrame with at least 5 rows and columns and display the original DataFrame"
   ]
  },
  {
   "cell_type": "code",
   "execution_count": null,
   "id": "e452e6d4",
   "metadata": {},
   "outputs": [],
   "source": [
    "data = {\n",
    "    'Student': [\"Alex\", \"Ben\", \"Charlie\", \"David\", \"Patrick\"],\n",
    "    'Grade': [1, 1, 2, 3, 3],\n",
    "    'Major': [\"CS\", \"Math\", \"CS\", \"Stats\", \"Physics\"],\n",
    "    'Class Ranking': [5, 2, 3, 4, 1],\n",
    "    'Age': [19, 20, 21, 22, 20]\n",
    "}\n",
    "\n",
    "pd.DataFrame(data)\n"
   ]
  },
  {
   "cell_type": "markdown",
   "id": "8292c37b",
   "metadata": {},
   "source": [
    "#### Q2. Display the DataFrame above but with just the rows 1 through 3 and columns 2 and 4 (0-indexed)"
   ]
  },
  {
   "cell_type": "code",
   "execution_count": null,
   "id": "dee5336d",
   "metadata": {},
   "outputs": [],
   "source": [
    "df = pd.DataFrame(data)\n",
    "df.iloc[0:3, [2,4]]"
   ]
  },
  {
   "cell_type": "markdown",
   "id": "cdb25c28",
   "metadata": {},
   "source": [
    "#### Q3. Using the DataFrame you created in Q1, add a new column to it."
   ]
  },
  {
   "cell_type": "code",
   "execution_count": null,
   "id": "cacc175e",
   "metadata": {},
   "outputs": [],
   "source": [
    "df['Gender'] = [\"M\", \"M\", \"M\", \"M\", \"M\"]\n",
    "df"
   ]
  },
  {
   "cell_type": "markdown",
   "id": "3b266bf5",
   "metadata": {},
   "source": [
    "#### Q4. Using the `.drop()` function, drop one of the columns from the DataFrame you created in Q1 and display it."
   ]
  },
  {
   "cell_type": "code",
   "execution_count": null,
   "id": "9c217a3f",
   "metadata": {},
   "outputs": [],
   "source": [
    "df = df.drop('Gender', axis=1)\n",
    "df"
   ]
  },
  {
   "cell_type": "markdown",
   "id": "6f66e073",
   "metadata": {},
   "source": [
    "#### Q5. Using the `.rename()` function, rename one of the columns from the DataFrame you created in Q1 and display it."
   ]
  },
  {
   "cell_type": "code",
   "execution_count": null,
   "id": "cfcdac44",
   "metadata": {},
   "outputs": [],
   "source": [
    "df=df.rename(columns={\"Class Ranking\":\"Ranking\"})\n",
    "df"
   ]
  },
  {
   "cell_type": "markdown",
   "id": "4fa87ff3",
   "metadata": {},
   "source": [
    "### Filtering Data\n",
    "When we want to filter our DataFrame for a specific set of data, we can use boolean symbols to do so.\n",
    "\n",
    "Say from our `example_df` above, we want to only look through students who's grade is at most 2."
   ]
  },
  {
   "cell_type": "code",
   "execution_count": null,
   "id": "87a2a4ba",
   "metadata": {
    "scrolled": true
   },
   "outputs": [],
   "source": [
    "example_df[example_df[\"Grade\"] <= 2]"
   ]
  },
  {
   "cell_type": "markdown",
   "id": "b44ba6f3",
   "metadata": {},
   "source": [
    "Now, let's say we want to filter for students who are CS majors and grade 1."
   ]
  },
  {
   "cell_type": "code",
   "execution_count": null,
   "id": "af214e5e",
   "metadata": {},
   "outputs": [],
   "source": [
    "example_df[(example_df[\"Major\"] == \"CS\") & (example_df[\"Grade\"] == 1)]"
   ]
  },
  {
   "cell_type": "markdown",
   "id": "ec3fdb01",
   "metadata": {},
   "source": [
    "Another cool way of filtering is using the method `groupby`. Let's say we want to know the number of students from each Grade."
   ]
  },
  {
   "cell_type": "code",
   "execution_count": null,
   "id": "95dbee7d",
   "metadata": {},
   "outputs": [],
   "source": [
    "example_df.groupby([\"Grade\"]).count()"
   ]
  },
  {
   "cell_type": "markdown",
   "id": "67515e95",
   "metadata": {},
   "source": [
    "#### Q1. Using your DataFrame from the previous question, do some sort of filtering and show your code & output below."
   ]
  },
  {
   "cell_type": "code",
   "execution_count": null,
   "id": "7f6a7338",
   "metadata": {},
   "outputs": [],
   "source": [
    "df[(df[\"Ranking\"] == 1)]"
   ]
  },
  {
   "cell_type": "markdown",
   "id": "2140a142",
   "metadata": {},
   "source": [
    "----"
   ]
  },
  {
   "cell_type": "markdown",
   "id": "b3384522",
   "metadata": {},
   "source": [
    "Now let's download an external dataset. We can use the `read_csv` function from pandas to do so. We demonstrate how we can convert the data in `cars.csv` into a pandas dataframe in order to work with it in python."
   ]
  },
  {
   "cell_type": "code",
   "execution_count": 67,
   "id": "358e042a",
   "metadata": {},
   "outputs": [
    {
     "data": {
      "text/plain": "                           Car   MPG Cylinders Displacement Horsepower Weight  \\\n1    Chevrolet Chevelle Malibu  18.0         8        307.0      130.0  3504.   \n2            Buick Skylark 320  15.0         8        350.0      165.0  3693.   \n3           Plymouth Satellite  18.0         8        318.0      150.0  3436.   \n4                AMC Rebel SST  16.0         8        304.0      150.0  3433.   \n5                  Ford Torino  17.0         8        302.0      140.0  3449.   \n..                         ...   ...       ...          ...        ...    ...   \n402            Ford Mustang GL  27.0         4        140.0      86.00  2790.   \n403          Volkswagen Pickup  44.0         4        97.00      52.00  2130.   \n404              Dodge Rampage  32.0         4        135.0      84.00  2295.   \n405                Ford Ranger  28.0         4        120.0      79.00  2625.   \n406                 Chevy S-10  31.0         4        119.0      82.00  2720.   \n\n    Acceleration Model  Origin  \n1           12.0    70      US  \n2           11.5    70      US  \n3           11.0    70      US  \n4           12.0    70      US  \n5           10.5    70      US  \n..           ...   ...     ...  \n402         15.6    82      US  \n403         24.6    82  Europe  \n404         11.6    82      US  \n405         18.6    82      US  \n406         19.4    82      US  \n\n[406 rows x 9 columns]",
      "text/html": "<div>\n<style scoped>\n    .dataframe tbody tr th:only-of-type {\n        vertical-align: middle;\n    }\n\n    .dataframe tbody tr th {\n        vertical-align: top;\n    }\n\n    .dataframe thead th {\n        text-align: right;\n    }\n</style>\n<table border=\"1\" class=\"dataframe\">\n  <thead>\n    <tr style=\"text-align: right;\">\n      <th></th>\n      <th>Car</th>\n      <th>MPG</th>\n      <th>Cylinders</th>\n      <th>Displacement</th>\n      <th>Horsepower</th>\n      <th>Weight</th>\n      <th>Acceleration</th>\n      <th>Model</th>\n      <th>Origin</th>\n    </tr>\n  </thead>\n  <tbody>\n    <tr>\n      <th>1</th>\n      <td>Chevrolet Chevelle Malibu</td>\n      <td>18.0</td>\n      <td>8</td>\n      <td>307.0</td>\n      <td>130.0</td>\n      <td>3504.</td>\n      <td>12.0</td>\n      <td>70</td>\n      <td>US</td>\n    </tr>\n    <tr>\n      <th>2</th>\n      <td>Buick Skylark 320</td>\n      <td>15.0</td>\n      <td>8</td>\n      <td>350.0</td>\n      <td>165.0</td>\n      <td>3693.</td>\n      <td>11.5</td>\n      <td>70</td>\n      <td>US</td>\n    </tr>\n    <tr>\n      <th>3</th>\n      <td>Plymouth Satellite</td>\n      <td>18.0</td>\n      <td>8</td>\n      <td>318.0</td>\n      <td>150.0</td>\n      <td>3436.</td>\n      <td>11.0</td>\n      <td>70</td>\n      <td>US</td>\n    </tr>\n    <tr>\n      <th>4</th>\n      <td>AMC Rebel SST</td>\n      <td>16.0</td>\n      <td>8</td>\n      <td>304.0</td>\n      <td>150.0</td>\n      <td>3433.</td>\n      <td>12.0</td>\n      <td>70</td>\n      <td>US</td>\n    </tr>\n    <tr>\n      <th>5</th>\n      <td>Ford Torino</td>\n      <td>17.0</td>\n      <td>8</td>\n      <td>302.0</td>\n      <td>140.0</td>\n      <td>3449.</td>\n      <td>10.5</td>\n      <td>70</td>\n      <td>US</td>\n    </tr>\n    <tr>\n      <th>...</th>\n      <td>...</td>\n      <td>...</td>\n      <td>...</td>\n      <td>...</td>\n      <td>...</td>\n      <td>...</td>\n      <td>...</td>\n      <td>...</td>\n      <td>...</td>\n    </tr>\n    <tr>\n      <th>402</th>\n      <td>Ford Mustang GL</td>\n      <td>27.0</td>\n      <td>4</td>\n      <td>140.0</td>\n      <td>86.00</td>\n      <td>2790.</td>\n      <td>15.6</td>\n      <td>82</td>\n      <td>US</td>\n    </tr>\n    <tr>\n      <th>403</th>\n      <td>Volkswagen Pickup</td>\n      <td>44.0</td>\n      <td>4</td>\n      <td>97.00</td>\n      <td>52.00</td>\n      <td>2130.</td>\n      <td>24.6</td>\n      <td>82</td>\n      <td>Europe</td>\n    </tr>\n    <tr>\n      <th>404</th>\n      <td>Dodge Rampage</td>\n      <td>32.0</td>\n      <td>4</td>\n      <td>135.0</td>\n      <td>84.00</td>\n      <td>2295.</td>\n      <td>11.6</td>\n      <td>82</td>\n      <td>US</td>\n    </tr>\n    <tr>\n      <th>405</th>\n      <td>Ford Ranger</td>\n      <td>28.0</td>\n      <td>4</td>\n      <td>120.0</td>\n      <td>79.00</td>\n      <td>2625.</td>\n      <td>18.6</td>\n      <td>82</td>\n      <td>US</td>\n    </tr>\n    <tr>\n      <th>406</th>\n      <td>Chevy S-10</td>\n      <td>31.0</td>\n      <td>4</td>\n      <td>119.0</td>\n      <td>82.00</td>\n      <td>2720.</td>\n      <td>19.4</td>\n      <td>82</td>\n      <td>US</td>\n    </tr>\n  </tbody>\n</table>\n<p>406 rows × 9 columns</p>\n</div>"
     },
     "execution_count": 67,
     "metadata": {},
     "output_type": "execute_result"
    }
   ],
   "source": [
    "data = pd.read_csv('./cars.csv', delimiter = ';').tail(-1)\n",
    "data"
   ]
  },
  {
   "cell_type": "markdown",
   "id": "88d9f43d",
   "metadata": {},
   "source": [
    "#### Q2. Display the first 15 rows of `data` using the `head` function."
   ]
  },
  {
   "cell_type": "code",
   "execution_count": 66,
   "id": "58d4474c",
   "metadata": {},
   "outputs": [
    {
     "data": {
      "text/plain": "                                 Car   MPG Cylinders Displacement Horsepower  \\\n1          Chevrolet Chevelle Malibu  18.0         8        307.0      130.0   \n2                  Buick Skylark 320  15.0         8        350.0      165.0   \n3                 Plymouth Satellite  18.0         8        318.0      150.0   \n4                      AMC Rebel SST  16.0         8        304.0      150.0   \n5                        Ford Torino  17.0         8        302.0      140.0   \n6                   Ford Galaxie 500  15.0         8        429.0      198.0   \n7                   Chevrolet Impala  14.0         8        454.0      220.0   \n8                  Plymouth Fury iii  14.0         8        440.0      215.0   \n9                   Pontiac Catalina  14.0         8        455.0      225.0   \n10                AMC Ambassador DPL  15.0         8        390.0      190.0   \n11              Citroen DS-21 Pallas     0         4        133.0      115.0   \n12  Chevrolet Chevelle Concours (sw)     0         8        350.0      165.0   \n13                  Ford Torino (sw)     0         8        351.0      153.0   \n14           Plymouth Satellite (sw)     0         8        383.0      175.0   \n15                AMC Rebel SST (sw)     0         8        360.0      175.0   \n\n   Weight Acceleration Model  Origin  \n1   3504.         12.0    70      US  \n2   3693.         11.5    70      US  \n3   3436.         11.0    70      US  \n4   3433.         12.0    70      US  \n5   3449.         10.5    70      US  \n6   4341.         10.0    70      US  \n7   4354.          9.0    70      US  \n8   4312.          8.5    70      US  \n9   4425.         10.0    70      US  \n10  3850.          8.5    70      US  \n11  3090.         17.5    70  Europe  \n12  4142.         11.5    70      US  \n13  4034.         11.0    70      US  \n14  4166.         10.5    70      US  \n15  3850.         11.0    70      US  ",
      "text/html": "<div>\n<style scoped>\n    .dataframe tbody tr th:only-of-type {\n        vertical-align: middle;\n    }\n\n    .dataframe tbody tr th {\n        vertical-align: top;\n    }\n\n    .dataframe thead th {\n        text-align: right;\n    }\n</style>\n<table border=\"1\" class=\"dataframe\">\n  <thead>\n    <tr style=\"text-align: right;\">\n      <th></th>\n      <th>Car</th>\n      <th>MPG</th>\n      <th>Cylinders</th>\n      <th>Displacement</th>\n      <th>Horsepower</th>\n      <th>Weight</th>\n      <th>Acceleration</th>\n      <th>Model</th>\n      <th>Origin</th>\n    </tr>\n  </thead>\n  <tbody>\n    <tr>\n      <th>1</th>\n      <td>Chevrolet Chevelle Malibu</td>\n      <td>18.0</td>\n      <td>8</td>\n      <td>307.0</td>\n      <td>130.0</td>\n      <td>3504.</td>\n      <td>12.0</td>\n      <td>70</td>\n      <td>US</td>\n    </tr>\n    <tr>\n      <th>2</th>\n      <td>Buick Skylark 320</td>\n      <td>15.0</td>\n      <td>8</td>\n      <td>350.0</td>\n      <td>165.0</td>\n      <td>3693.</td>\n      <td>11.5</td>\n      <td>70</td>\n      <td>US</td>\n    </tr>\n    <tr>\n      <th>3</th>\n      <td>Plymouth Satellite</td>\n      <td>18.0</td>\n      <td>8</td>\n      <td>318.0</td>\n      <td>150.0</td>\n      <td>3436.</td>\n      <td>11.0</td>\n      <td>70</td>\n      <td>US</td>\n    </tr>\n    <tr>\n      <th>4</th>\n      <td>AMC Rebel SST</td>\n      <td>16.0</td>\n      <td>8</td>\n      <td>304.0</td>\n      <td>150.0</td>\n      <td>3433.</td>\n      <td>12.0</td>\n      <td>70</td>\n      <td>US</td>\n    </tr>\n    <tr>\n      <th>5</th>\n      <td>Ford Torino</td>\n      <td>17.0</td>\n      <td>8</td>\n      <td>302.0</td>\n      <td>140.0</td>\n      <td>3449.</td>\n      <td>10.5</td>\n      <td>70</td>\n      <td>US</td>\n    </tr>\n    <tr>\n      <th>6</th>\n      <td>Ford Galaxie 500</td>\n      <td>15.0</td>\n      <td>8</td>\n      <td>429.0</td>\n      <td>198.0</td>\n      <td>4341.</td>\n      <td>10.0</td>\n      <td>70</td>\n      <td>US</td>\n    </tr>\n    <tr>\n      <th>7</th>\n      <td>Chevrolet Impala</td>\n      <td>14.0</td>\n      <td>8</td>\n      <td>454.0</td>\n      <td>220.0</td>\n      <td>4354.</td>\n      <td>9.0</td>\n      <td>70</td>\n      <td>US</td>\n    </tr>\n    <tr>\n      <th>8</th>\n      <td>Plymouth Fury iii</td>\n      <td>14.0</td>\n      <td>8</td>\n      <td>440.0</td>\n      <td>215.0</td>\n      <td>4312.</td>\n      <td>8.5</td>\n      <td>70</td>\n      <td>US</td>\n    </tr>\n    <tr>\n      <th>9</th>\n      <td>Pontiac Catalina</td>\n      <td>14.0</td>\n      <td>8</td>\n      <td>455.0</td>\n      <td>225.0</td>\n      <td>4425.</td>\n      <td>10.0</td>\n      <td>70</td>\n      <td>US</td>\n    </tr>\n    <tr>\n      <th>10</th>\n      <td>AMC Ambassador DPL</td>\n      <td>15.0</td>\n      <td>8</td>\n      <td>390.0</td>\n      <td>190.0</td>\n      <td>3850.</td>\n      <td>8.5</td>\n      <td>70</td>\n      <td>US</td>\n    </tr>\n    <tr>\n      <th>11</th>\n      <td>Citroen DS-21 Pallas</td>\n      <td>0</td>\n      <td>4</td>\n      <td>133.0</td>\n      <td>115.0</td>\n      <td>3090.</td>\n      <td>17.5</td>\n      <td>70</td>\n      <td>Europe</td>\n    </tr>\n    <tr>\n      <th>12</th>\n      <td>Chevrolet Chevelle Concours (sw)</td>\n      <td>0</td>\n      <td>8</td>\n      <td>350.0</td>\n      <td>165.0</td>\n      <td>4142.</td>\n      <td>11.5</td>\n      <td>70</td>\n      <td>US</td>\n    </tr>\n    <tr>\n      <th>13</th>\n      <td>Ford Torino (sw)</td>\n      <td>0</td>\n      <td>8</td>\n      <td>351.0</td>\n      <td>153.0</td>\n      <td>4034.</td>\n      <td>11.0</td>\n      <td>70</td>\n      <td>US</td>\n    </tr>\n    <tr>\n      <th>14</th>\n      <td>Plymouth Satellite (sw)</td>\n      <td>0</td>\n      <td>8</td>\n      <td>383.0</td>\n      <td>175.0</td>\n      <td>4166.</td>\n      <td>10.5</td>\n      <td>70</td>\n      <td>US</td>\n    </tr>\n    <tr>\n      <th>15</th>\n      <td>AMC Rebel SST (sw)</td>\n      <td>0</td>\n      <td>8</td>\n      <td>360.0</td>\n      <td>175.0</td>\n      <td>3850.</td>\n      <td>11.0</td>\n      <td>70</td>\n      <td>US</td>\n    </tr>\n  </tbody>\n</table>\n</div>"
     },
     "execution_count": 66,
     "metadata": {},
     "output_type": "execute_result"
    }
   ],
   "source": [
    "data.head(15)"
   ]
  },
  {
   "cell_type": "markdown",
   "id": "a391c378",
   "metadata": {},
   "source": [
    "#### Q3. Display the last 7 rows of `data` using the `tail` function."
   ]
  },
  {
   "cell_type": "code",
   "execution_count": null,
   "id": "4e8f3a16",
   "metadata": {},
   "outputs": [],
   "source": [
    "data.tail(7)"
   ]
  },
  {
   "cell_type": "markdown",
   "id": "902389f2",
   "metadata": {},
   "source": [
    "#### Q4. Using the variable `data`, find how many cars have 6 cylinders"
   ]
  },
  {
   "cell_type": "code",
   "execution_count": null,
   "id": "0a5c7f77",
   "metadata": {},
   "outputs": [],
   "source": [
    "data[\"Cylinders\"]=pd.to_numeric(data[\"Cylinders\"], errors=\"coerce\")\n",
    "data[(data['Cylinders'] == 6)].shape[0]"
   ]
  },
  {
   "cell_type": "markdown",
   "id": "a908b272",
   "metadata": {},
   "source": [
    "#### Q5. Using the variable `data`, find how many cars with 6 cylinders were originated from the US."
   ]
  },
  {
   "cell_type": "code",
   "execution_count": null,
   "id": "e338965a",
   "metadata": {},
   "outputs": [],
   "source": [
    "data[\"Cylinders\"]=pd.to_numeric(data[\"Cylinders\"], errors=\"coerce\")\n",
    "six_cyl_us_cars = data[(data['Cylinders'] == 6) & (data['Origin'] == 'US')].shape[0]\n",
    "\n",
    "print(six_cyl_us_cars)"
   ]
  },
  {
   "cell_type": "markdown",
   "id": "76b5f6c9",
   "metadata": {},
   "source": [
    "#### Q6. Using the variable `data`, display cars with 6 cylinders, from the US, with weigth less than 3000."
   ]
  },
  {
   "cell_type": "code",
   "execution_count": null,
   "id": "e62ce7ba",
   "metadata": {},
   "outputs": [],
   "source": [
    "data[\"Weight\"]=pd.to_numeric(data[\"Weight\"], errors=\"coerce\")\n",
    "\n",
    "n= data[(data['Cylinders'] == 6) & (data['Origin'] == 'US') & (data['Weight'] < 3000)].shape[0]\n",
    "print(n)"
   ]
  },
  {
   "cell_type": "markdown",
   "id": "8a66caf0",
   "metadata": {},
   "source": [
    "## Data Visualization\n",
    "We can use `matplotlib` for visualization. It plots on to a set of Axes which are associated with a Figure. It will auto-plot onto the current set of Axes or create a new figure/set of default axes. This can be done by using `matplotlib.pyplot` package, which are usually called as `plt`. A subsequent `plt` calls will edit the same set of default-created aces. In addition, after the initial plot, `plt.gca()` will get the current set of axes. \n",
    "\n",
    "**Import packages.**"
   ]
  },
  {
   "cell_type": "code",
   "execution_count": null,
   "id": "e2ea44fa",
   "metadata": {},
   "outputs": [],
   "source": [
    "import matplotlib.pyplot as plt"
   ]
  },
  {
   "cell_type": "markdown",
   "id": "ee0413fb",
   "metadata": {},
   "source": [
    "We are going to look at some sample plots."
   ]
  },
  {
   "cell_type": "code",
   "execution_count": null,
   "id": "c0696548",
   "metadata": {},
   "outputs": [],
   "source": [
    "# Plot using plt\n",
    "arr = np.arange(25)\n",
    "plt.plot(arr)\n",
    "plt.xlabel(\"Index\")\n",
    "plt.ylabel(\"Number\")\n",
    "plt.title(\"Sample Plot\")\n",
    "\n",
    "plt.show()"
   ]
  },
  {
   "cell_type": "code",
   "execution_count": null,
   "id": "3f6a05ea",
   "metadata": {},
   "outputs": [],
   "source": [
    "# Plot using axes\n",
    "plt.plot(arr)\n",
    "axes = plt.gca()\n",
    "axes.set_ylabel(\"Index (Axes)\")\n",
    "axes.set_xlabel(\"Number (Axes)\")\n",
    "axes.set_title(\"Sample Plot (Axes)\")\n",
    "\n",
    "plt.show()"
   ]
  },
  {
   "cell_type": "markdown",
   "id": "a69eca4f",
   "metadata": {},
   "source": [
    "---"
   ]
  },
  {
   "cell_type": "code",
   "execution_count": null,
   "id": "7339e77b",
   "metadata": {},
   "outputs": [],
   "source": [
    "car_data = pd.read_csv('./cars.csv', delimiter = ';').tail(-1)\n",
    "car_data"
   ]
  },
  {
   "cell_type": "markdown",
   "id": "7e7a81f5",
   "metadata": {},
   "source": [
    "**Q1. Create a graph with the `Horsepower` on the x-axis and `Acceleration` on the y-axis.** *(If there are too many ticks, cast your data as `float` using `np.asarray()`. )* "
   ]
  },
  {
   "cell_type": "code",
   "execution_count": null,
   "id": "d5bc65be",
   "metadata": {},
   "outputs": [],
   "source": [
    "HP = pd.to_numeric(data['Horsepower'])\n",
    "AC = pd.to_numeric(data['Acceleration'])\n",
    "\n",
    "plt.scatter(HP, AC)\n",
    "plt.xlabel('Horsepower')\n",
    "plt.ylabel('Acceleration')\n",
    "plt.title('Horsepower vs. Acceleration')\n",
    "plt.show()"
   ]
  },
  {
   "cell_type": "markdown",
   "id": "22e775ff",
   "metadata": {},
   "source": [
    "Your graph should look something like this: \n",
    "\n",
    "![Q1 Image](https://cdn.discordapp.com/attachments/564268123545403394/1070609023419826206/image.png)"
   ]
  },
  {
   "cell_type": "markdown",
   "id": "066341a1",
   "metadata": {},
   "source": [
    "**Q2.Create a histogram based on the values of the column `Cylinders`.**"
   ]
  },
  {
   "cell_type": "code",
   "execution_count": 68,
   "id": "e762e2b3",
   "metadata": {},
   "outputs": [
    {
     "data": {
      "text/plain": "<Figure size 640x480 with 1 Axes>",
      "image/png": "[encoded data removed]"
     },
     "metadata": {},
     "output_type": "display_data"
    }
   ],
   "source": [
    "Cyl = pd.to_numeric(data['Cylinders'])\n",
    "plt.hist(Cyl)\n",
    "\n",
    "# Add x and y labels\n",
    "plt.xlabel('Number of Cylinders')\n",
    "plt.ylabel('Frequency')\n",
    "\n",
    "# Show the plot\n",
    "plt.show()"
   ]
  },
  {
   "attachments": {
    "image.png": {
     "image/png": "[encoded data removed]"
    }
   },
   "cell_type": "markdown",
   "id": "b11806a8",
   "metadata": {},
   "source": [
    "Again, your graph should look something like this:\n",
    "\n",
    "![Q2 Image](attachment:image.png)"
   ]
  },
  {
   "cell_type": "markdown",
   "id": "a008a4ea",
   "metadata": {},
   "source": [
    "**Q3. Create a graph with the `Weight` on the x-axis and `Acceleration` on the y-axis.**"
   ]
  },
  {
   "cell_type": "code",
   "execution_count": 69,
   "id": "1ac1fa00",
   "metadata": {},
   "outputs": [
    {
     "data": {
      "text/plain": "<Figure size 640x480 with 1 Axes>",
      "image/png": "[encoded data removed]"
     },
     "metadata": {},
     "output_type": "display_data"
    }
   ],
   "source": [
    "WT = pd.to_numeric(data['Weight'])\n",
    "AC = pd.to_numeric(data['Acceleration'])\n",
    "\n",
    "# Plot the graph\n",
    "plt.scatter(WT,AC)\n",
    "\n",
    "# Set the axis labels\n",
    "plt.xlabel('Weight')\n",
    "plt.ylabel('Acceleration')\n",
    "\n",
    "# Set the title of the graph\n",
    "plt.title('Weight vs. Acceleration')\n",
    "\n",
    "# Display the graph\n",
    "plt.show()"
   ]
  },
  {
   "cell_type": "markdown",
   "id": "0a3733e4",
   "metadata": {},
   "source": [
    "Your graph should look like this: \n",
    "\n",
    "![Q3 Image](https://cdn.discordapp.com/attachments/564268123545403394/1070609271747772446/image.png)"
   ]
  },
  {
   "cell_type": "markdown",
   "id": "492b044e",
   "metadata": {},
   "source": [
    "## Using YFinance Data"
   ]
  },
  {
   "cell_type": "markdown",
   "id": "3832402c",
   "metadata": {},
   "source": [
    "Now, let's explore stock data using `yfinance`."
   ]
  },
  {
   "cell_type": "markdown",
   "id": "cfdf55b2",
   "metadata": {},
   "source": [
    "**Q1.Import `yfinance` and get the S&P 500, APPL, MSFT, and GOOG data. The granularity should be minute level data for the past 30 days.**"
   ]
  },
  {
   "cell_type": "code",
   "execution_count": 70,
   "id": "a4db141a",
   "metadata": {},
   "outputs": [
    {
     "name": "stdout",
     "output_type": "stream",
     "text": [
      "[*********************100%***********************]  4 of 4 completed\n"
     ]
    }
   ],
   "source": [
    "import yfinance as yf\n",
    "\n",
    "# Tickers for S&P 500, Apple, Microsoft, and Google\n",
    "tickers_list= [\"^GSPC\", \"AAPL\", \"MSFT\", \"GOOG\"]\n",
    "\n",
    "#import yfinance as yf\n",
    "data = yf.download(tickers_list,period=\"1mo\", interval=\"2m\")['Adj Close']"
   ]
  },
  {
   "cell_type": "markdown",
   "id": "5a31a951",
   "metadata": {},
   "source": [
    "**Q2.Now, try plotting the price of S&P 500 for the past 30 days.**"
   ]
  },
  {
   "cell_type": "code",
   "execution_count": 71,
   "id": "ff20c95f",
   "metadata": {},
   "outputs": [
    {
     "name": "stdout",
     "output_type": "stream",
     "text": [
      "[*********************100%***********************]  1 of 1 completed\n"
     ]
    },
    {
     "data": {
      "text/plain": "<Figure size 640x480 with 1 Axes>",
      "image/png": "[encoded data removed]"
     },
     "metadata": {},
     "output_type": "display_data"
    }
   ],
   "source": [
    "data = yf.download('^GSPC',period=\"1mo\", interval=\"2m\")\n",
    "data['Adj Close'].plot()\n",
    "plt.show()"
   ]
  },
  {
   "cell_type": "markdown",
   "id": "a602cc37",
   "metadata": {},
   "source": [
    "Note down any observations in this cell:"
   ]
  },
  {
   "cell_type": "markdown",
   "id": "ca0a9898",
   "metadata": {},
   "source": [
    "Lookes very jagged and not normal... Probably caused by plotting function not being perfect"
   ]
  },
  {
   "cell_type": "markdown",
   "id": "bb145d07",
   "metadata": {},
   "source": [
    "**Q3.Now, plot the returns (a.k.a percent change) of S&P 500 for the past 30 days.**"
   ]
  },
  {
   "cell_type": "code",
   "execution_count": null,
   "id": "651bb083",
   "metadata": {},
   "outputs": [],
   "source": [
    "import yfinance as yf\n",
    "import matplotlib.pyplot as plt\n",
    "\n",
    "# Ticker for S&P 500\n",
    "ticker = \"^GSPC\"\n",
    "\n",
    "# Get minute-level data for the past 30 days\n",
    "data = yf.download(ticker, period=\"1mo\", interval=\"2m\")\n",
    "\n",
    "# Calculate percent change (returns)\n",
    "returns = data[\"Close\"].pct_change()\n",
    "\n",
    "# Plot the percent change\n",
    "plt.plot(returns)\n",
    "plt.title(\"S&P 500 Returns - Past 30 Days\")\n",
    "plt.xlabel(\"Date\")\n",
    "plt.ylabel(\"Percent Change (%)\")\n",
    "plt.show()"
   ]
  },
  {
   "cell_type": "markdown",
   "id": "5d9c46e4",
   "metadata": {},
   "source": [
    "**Q4.Plot the returns of APPL, MSFT, GOOG as well.**"
   ]
  },
  {
   "cell_type": "code",
   "execution_count": null,
   "id": "3c5dffe0",
   "metadata": {},
   "outputs": [],
   "source": [
    "import yfinance as yf\n",
    "import matplotlib.pyplot as plt\n",
    "\n",
    "# Tickers for Apple, Microsoft, Google, and S&P 500\n",
    "tickers = [\"AAPL\", \"MSFT\", \"GOOGL\", \"^GSPC\"]\n",
    "\n",
    "# Get minute-level data for the past 30 days for the tickers\n",
    "data = yf.download(tickers, period=\"1mo\", interval=\"2m\")[\"Close\"]\n",
    "\n",
    "# Calculate percent change (returns)\n",
    "returns = data.pct_change()+1\n",
    "\n",
    "# Plot the percent change\n",
    "plt.plot(returns)\n",
    "\n",
    "# Add a legend for the tickers\n",
    "plt.legend(tickers)\n",
    "\n",
    "\n",
    "# Plot the grid lines\n",
    "plt.grid(which=\"major\", color='k', linestyle='-.', linewidth=0.5)\n",
    "plt.show()\n"
   ]
  },
  {
   "cell_type": "markdown",
   "id": "b345c086",
   "metadata": {},
   "source": [
    "**Q5.Run seaborn.pairplot on the returns of SPY, APPL, MSFT, and GOOG. (You have to import the package)**"
   ]
  },
  {
   "cell_type": "code",
   "execution_count": null,
   "id": "f2e035e6",
   "metadata": {},
   "outputs": [],
   "source": [
    "import seaborn as sns\n",
    "\n",
    "# Calculate daily returns\n",
    "returns = data.pct_change()+1\n",
    "\n",
    "# Create a pair plot of the returns\n",
    "sns.pairplot(returns)"
   ]
  },
  {
   "cell_type": "markdown",
   "id": "02c7cdfb",
   "metadata": {},
   "source": [
    "**Q6.Print the correlations across those 4.**"
   ]
  },
  {
   "cell_type": "code",
   "execution_count": null,
   "id": "e40699c1",
   "metadata": {},
   "outputs": [],
   "source": [
    "print(returns.corr())"
   ]
  },
  {
   "cell_type": "markdown",
   "id": "746be415",
   "metadata": {},
   "source": [
    "Now we have learned a lot of stocks are very correlated to the market at large!"
   ]
  },
  {
   "cell_type": "markdown",
   "id": "c61800fa",
   "metadata": {},
   "source": [
    "## Submission"
   ]
  },
  {
   "cell_type": "markdown",
   "id": "2c0560ec",
   "metadata": {},
   "source": [
    "Submit your code to github under the \"[Coding HW] Homework 0\" Assignment. This homework is due February 12th by Midnight."
   ]
  }
 ],
 "metadata": {
  "kernelspec": {
   "display_name": "Python 3 (ipykernel)",
   "language": "python",
   "name": "python3"
  },
  "language_info": {
   "codemirror_mode": {
    "name": "ipython",
    "version": 3
   },
   "file_extension": ".py",
   "mimetype": "text/x-python",
   "name": "python",
   "nbconvert_exporter": "python",
   "pygments_lexer": "ipython3",
   "version": "3.9.15"
  },
  "vscode": {
   "interpreter": {
    "hash": "31f2aee4e71d21fbe5cf8b01ff0e069b9275f58929596ceb00d14d90e3e16cd6"
   }
  }
 },
 "nbformat": 4,
 "nbformat_minor": 5
}
